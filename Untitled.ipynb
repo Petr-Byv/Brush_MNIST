{
 "cells": [
  {
   "cell_type": "code",
   "execution_count": 1,
   "id": "3a4a49bc",
   "metadata": {},
   "outputs": [],
   "source": [
    "import torch\n",
    "import torchvision\n",
    "import torchvision.datasets as datasets\n",
    "import requests"
   ]
  },
  {
   "cell_type": "code",
   "execution_count": 10,
   "id": "b5ef5838",
   "metadata": {},
   "outputs": [],
   "source": [
    "import keras\n",
    "import cv2"
   ]
  },
  {
   "cell_type": "code",
   "execution_count": 3,
   "id": "cd176bfd",
   "metadata": {},
   "outputs": [],
   "source": [
    "import tensorflow as tf\n",
    "import numpy as np"
   ]
  },
  {
   "cell_type": "code",
   "execution_count": 4,
   "id": "b2f9de51",
   "metadata": {},
   "outputs": [],
   "source": [
    "from keras.datasets import mnist\n",
    "(x_train, y_train), (x_test, y_test) = mnist.load_data()"
   ]
  },
  {
   "cell_type": "code",
   "execution_count": 29,
   "id": "990798af",
   "metadata": {},
   "outputs": [],
   "source": [
    "from utils.random_sampler import sample_random_number_mnist, find_nearest_white,generate_from_mnist_images"
   ]
  },
  {
   "cell_type": "code",
   "execution_count": 6,
   "id": "fa7387f8",
   "metadata": {},
   "outputs": [],
   "source": [
    "traces=np.load('utils/traces.npy')"
   ]
  },
  {
   "cell_type": "code",
   "execution_count": 7,
   "id": "396f2c4a",
   "metadata": {},
   "outputs": [
    {
     "ename": "IndexError",
     "evalue": "index 18 is out of bounds for axis 0 with size 10",
     "output_type": "error",
     "traceback": [
      "\u001b[0;31m---------------------------------------------------------------------------\u001b[0m",
      "\u001b[0;31mIndexError\u001b[0m                                Traceback (most recent call last)",
      "\u001b[0;32m<ipython-input-7-746ce427768a>\u001b[0m in \u001b[0;36m<module>\u001b[0;34m\u001b[0m\n\u001b[0;32m----> 1\u001b[0;31m \u001b[0msample\u001b[0m\u001b[0;34m=\u001b[0m\u001b[0mgenerate_from_mnist_images\u001b[0m\u001b[0;34m(\u001b[0m\u001b[0mx_train\u001b[0m\u001b[0;34m[\u001b[0m\u001b[0;36m0\u001b[0m\u001b[0;34m]\u001b[0m\u001b[0;34m,\u001b[0m\u001b[0mx_train\u001b[0m\u001b[0;34m[\u001b[0m\u001b[0;36m1\u001b[0m\u001b[0;34m]\u001b[0m\u001b[0;34m,\u001b[0m\u001b[0mtraces\u001b[0m\u001b[0;34m)\u001b[0m\u001b[0;34m\u001b[0m\u001b[0;34m\u001b[0m\u001b[0m\n\u001b[0m",
      "\u001b[0;32m~/Dropbox (Aalto)/phdanger_things/3rd paper project/Video_MNIST/utils/random_sampler.py\u001b[0m in \u001b[0;36mgenerate_from_mnist_images\u001b[0;34m(shape, brush, traces)\u001b[0m\n\u001b[1;32m     30\u001b[0m     \u001b[0mnewtrace\u001b[0m\u001b[0;34m=\u001b[0m\u001b[0mnp\u001b[0m\u001b[0;34m.\u001b[0m\u001b[0mzeros\u001b[0m\u001b[0;34m(\u001b[0m\u001b[0;34m[\u001b[0m\u001b[0;36m2\u001b[0m\u001b[0;34m,\u001b[0m\u001b[0;36m150\u001b[0m\u001b[0;34m]\u001b[0m\u001b[0;34m)\u001b[0m\u001b[0;34m\u001b[0m\u001b[0;34m\u001b[0m\u001b[0m\n\u001b[1;32m     31\u001b[0m     \u001b[0;32mfor\u001b[0m \u001b[0mj\u001b[0m \u001b[0;32min\u001b[0m \u001b[0mrange\u001b[0m\u001b[0;34m(\u001b[0m\u001b[0;36m150\u001b[0m\u001b[0;34m)\u001b[0m\u001b[0;34m:\u001b[0m\u001b[0;34m\u001b[0m\u001b[0;34m\u001b[0m\u001b[0m\n\u001b[0;32m---> 32\u001b[0;31m         \u001b[0mnewcoord\u001b[0m\u001b[0;34m=\u001b[0m\u001b[0mfind_nearest_white\u001b[0m\u001b[0;34m(\u001b[0m\u001b[0mshapetrace\u001b[0m\u001b[0;34m,\u001b[0m\u001b[0;34m[\u001b[0m\u001b[0mint\u001b[0m\u001b[0;34m(\u001b[0m\u001b[0mtraces\u001b[0m\u001b[0;34m[\u001b[0m\u001b[0mshape\u001b[0m\u001b[0;34m,\u001b[0m\u001b[0;36m1\u001b[0m\u001b[0;34m,\u001b[0m\u001b[0mj\u001b[0m\u001b[0;34m]\u001b[0m\u001b[0;34m)\u001b[0m\u001b[0;34m,\u001b[0m\u001b[0mint\u001b[0m\u001b[0;34m(\u001b[0m\u001b[0mtraces\u001b[0m\u001b[0;34m[\u001b[0m\u001b[0mshape\u001b[0m\u001b[0;34m,\u001b[0m\u001b[0;36m0\u001b[0m\u001b[0;34m,\u001b[0m\u001b[0mj\u001b[0m\u001b[0;34m]\u001b[0m\u001b[0;34m)\u001b[0m\u001b[0;34m]\u001b[0m\u001b[0;34m)\u001b[0m\u001b[0;34m\u001b[0m\u001b[0;34m\u001b[0m\u001b[0m\n\u001b[0m\u001b[1;32m     33\u001b[0m         \u001b[0mnewtrace\u001b[0m\u001b[0;34m[\u001b[0m\u001b[0;34m:\u001b[0m\u001b[0;34m,\u001b[0m\u001b[0mj\u001b[0m\u001b[0;34m]\u001b[0m\u001b[0;34m=\u001b[0m\u001b[0;34m[\u001b[0m\u001b[0mnewcoord\u001b[0m\u001b[0;34m[\u001b[0m\u001b[0;36m0\u001b[0m\u001b[0;34m]\u001b[0m\u001b[0;34m[\u001b[0m\u001b[0;36m1\u001b[0m\u001b[0;34m]\u001b[0m\u001b[0;34m,\u001b[0m\u001b[0mnewcoord\u001b[0m\u001b[0;34m[\u001b[0m\u001b[0;36m0\u001b[0m\u001b[0;34m]\u001b[0m\u001b[0;34m[\u001b[0m\u001b[0;36m0\u001b[0m\u001b[0;34m]\u001b[0m\u001b[0;34m]\u001b[0m\u001b[0;34m\u001b[0m\u001b[0;34m\u001b[0m\u001b[0m\n\u001b[1;32m     34\u001b[0m     \u001b[0mnewtrace\u001b[0m\u001b[0;34m=\u001b[0m\u001b[0mnewtrace\u001b[0m\u001b[0;34m.\u001b[0m\u001b[0mastype\u001b[0m\u001b[0;34m(\u001b[0m\u001b[0;34m'uint8'\u001b[0m\u001b[0;34m)\u001b[0m\u001b[0;34m\u001b[0m\u001b[0;34m\u001b[0m\u001b[0m\n",
      "\u001b[0;31mIndexError\u001b[0m: index 18 is out of bounds for axis 0 with size 10"
     ]
    }
   ],
   "source": [
    "sample=generate_from_mnist_images(x_train[0],x_train[1],traces)"
   ]
  },
  {
   "cell_type": "code",
   "execution_count": 16,
   "id": "29886da7",
   "metadata": {},
   "outputs": [],
   "source": [
    "from skimage.morphology import skeletonize, thin"
   ]
  },
  {
   "cell_type": "code",
   "execution_count": 30,
   "id": "d8f4f745",
   "metadata": {},
   "outputs": [],
   "source": [
    "def find_nearest_white(img, target):\n",
    "    '''\n",
    "    #finds the nearest nonzero value of a 2d image (needed for trajectory matching)\n",
    "    '''\n",
    "    nonzero = cv2.findNonZero(img)\n",
    "    distances = np.sqrt((nonzero[:,:,0] - target[0]) ** 2 + (nonzero[:,:,1] - target[1]) ** 2)\n",
    "    nearest_index = np.argmin(distances)\n",
    "    return nonzero[nearest_index]"
   ]
  },
  {
   "cell_type": "code",
   "execution_count": 34,
   "id": "48c40875",
   "metadata": {},
   "outputs": [],
   "source": [
    "def generate_from_mnist_images(shape,shapelabel, brush,brushlabel, traces):\n",
    "    from skimage.morphology import skeletonize, thin\n",
    "    shapetrace=cv2.resize(shape,(224,224))\n",
    "    shapetrace[np.where(shapetrace!=0)]=1\n",
    "    shapetrace = skeletonize(shapetrace)\n",
    "    shapetrace=shapetrace*1\n",
    "    shapetrace=shapetrace.astype('uint8')\n",
    "    newtrace=np.zeros([2,150])\n",
    "    for j in range(150):\n",
    "        print([int(traces[shapelabel,1,j]),int(traces[shapelabel,0,j])])\n",
    "        newcoord=find_nearest_white(shapetrace,[int(traces[shapelabel,1,j]),int(traces[shapelabel,0,j])])\n",
    "        newtrace[:,j]=[newcoord[0][1],newcoord[0][0]]\n",
    "    newtrace=newtrace.astype('uint8')\n",
    "    sample=np.zeros([150,224,224])\n",
    "\n",
    "    for k in range(150):\n",
    "        coords=[max(0,newtrace[0,k]-14),min(224,newtrace[0,k]+14),max(0,newtrace[1,k]-14),min(224,newtrace[1,k]+14)]\n",
    "        sample[k,coords[0]:coords[1],coords[2]:coords[3]]=brush[0:coords[1]-coords[0],0:coords[3]-coords[2]]\n",
    "    return sample"
   ]
  },
  {
   "cell_type": "code",
   "execution_count": 35,
   "id": "9783b3ef",
   "metadata": {},
   "outputs": [
    {
     "name": "stdout",
     "output_type": "stream",
     "text": [
      "[157, 52]\n",
      "[158, 52]\n",
      "[154, 53]\n",
      "[153, 54]\n",
      "[150, 54]\n",
      "[146, 54]\n",
      "[145, 54]\n",
      "[141, 54]\n",
      "[139, 55]\n",
      "[137, 55]\n",
      "[136, 55]\n",
      "[135, 55]\n",
      "[134, 55]\n",
      "[132, 55]\n",
      "[127, 56]\n",
      "[126, 56]\n",
      "[123, 57]\n",
      "[120, 57]\n",
      "[116, 58]\n",
      "[114, 58]\n",
      "[113, 58]\n",
      "[110, 58]\n",
      "[107, 58]\n",
      "[106, 58]\n",
      "[104, 58]\n",
      "[101, 58]\n",
      "[99, 58]\n",
      "[96, 58]\n",
      "[94, 58]\n",
      "[93, 58]\n",
      "[90, 58]\n",
      "[86, 58]\n",
      "[85, 59]\n",
      "[84, 58]\n",
      "[85, 61]\n",
      "[85, 63]\n",
      "[84, 65]\n",
      "[84, 66]\n",
      "[84, 67]\n",
      "[81, 75]\n",
      "[80, 76]\n",
      "[80, 78]\n",
      "[79, 80]\n",
      "[79, 81]\n",
      "[78, 83]\n",
      "[76, 85]\n",
      "[75, 88]\n",
      "[73, 91]\n",
      "[73, 93]\n",
      "[72, 98]\n",
      "[71, 105]\n",
      "[71, 108]\n",
      "[71, 110]\n",
      "[73, 111]\n",
      "[77, 111]\n",
      "[80, 111]\n",
      "[82, 111]\n",
      "[86, 110]\n",
      "[89, 110]\n",
      "[90, 110]\n",
      "[92, 109]\n",
      "[95, 109]\n",
      "[96, 109]\n",
      "[98, 109]\n",
      "[99, 109]\n",
      "[100, 109]\n",
      "[102, 109]\n",
      "[103, 109]\n",
      "[104, 109]\n",
      "[107, 109]\n",
      "[109, 109]\n",
      "[112, 109]\n",
      "[120, 109]\n",
      "[123, 109]\n",
      "[125, 109]\n",
      "[132, 109]\n",
      "[133, 109]\n",
      "[135, 109]\n",
      "[136, 109]\n",
      "[137, 109]\n",
      "[138, 109]\n",
      "[140, 110]\n",
      "[141, 111]\n",
      "[141, 112]\n",
      "[142, 113]\n",
      "[143, 116]\n",
      "[144, 118]\n",
      "[147, 122]\n",
      "[147, 123]\n",
      "[149, 125]\n",
      "[150, 128]\n",
      "[151, 130]\n",
      "[151, 131]\n",
      "[152, 132]\n",
      "[153, 134]\n",
      "[154, 138]\n",
      "[155, 140]\n",
      "[155, 141]\n",
      "[155, 143]\n",
      "[155, 144]\n",
      "[155, 148]\n",
      "[153, 154]\n",
      "[152, 157]\n",
      "[152, 158]\n",
      "[149, 164]\n",
      "[147, 167]\n",
      "[147, 168]\n",
      "[146, 169]\n",
      "[141, 175]\n",
      "[139, 177]\n",
      "[138, 178]\n",
      "[136, 180]\n",
      "[136, 181]\n",
      "[131, 183]\n",
      "[126, 184]\n",
      "[125, 184]\n",
      "[123, 184]\n",
      "[122, 184]\n",
      "[120, 184]\n",
      "[115, 185]\n",
      "[113, 185]\n",
      "[106, 185]\n",
      "[100, 186]\n",
      "[94, 186]\n",
      "[92, 186]\n",
      "[91, 186]\n",
      "[90, 186]\n",
      "[87, 186]\n",
      "[86, 186]\n",
      "[81, 186]\n",
      "[80, 186]\n",
      "[75, 186]\n",
      "[74, 186]\n",
      "[73, 186]\n",
      "[72, 186]\n",
      "[71, 186]\n",
      "[70, 186]\n",
      "[69, 186]\n",
      "[67, 186]\n",
      "[66, 186]\n",
      "[64, 186]\n",
      "[61, 185]\n",
      "[60, 184]\n",
      "[60, 181]\n",
      "[60, 180]\n",
      "[61, 177]\n",
      "[62, 174]\n",
      "[63, 173]\n",
      "[63, 171]\n",
      "[64, 170]\n"
     ]
    }
   ],
   "source": [
    "sample=generate_from_mnist_images(x_train[0],y_train[0],x_train[1],y_train[1],traces)"
   ]
  },
  {
   "cell_type": "code",
   "execution_count": 16,
   "id": "dccba2e5",
   "metadata": {},
   "outputs": [
    {
     "ename": "NameError",
     "evalue": "name 'shape' is not defined",
     "output_type": "error",
     "traceback": [
      "\u001b[0;31m---------------------------------------------------------------------------\u001b[0m",
      "\u001b[0;31mNameError\u001b[0m                                 Traceback (most recent call last)",
      "\u001b[0;32m<ipython-input-16-f36567ea2b52>\u001b[0m in \u001b[0;36m<module>\u001b[0;34m\u001b[0m\n\u001b[0;32m----> 1\u001b[0;31m \u001b[0mint\u001b[0m\u001b[0;34m(\u001b[0m\u001b[0mtraces\u001b[0m\u001b[0;34m[\u001b[0m\u001b[0mshape\u001b[0m\u001b[0;34m,\u001b[0m\u001b[0;36m1\u001b[0m\u001b[0;34m,\u001b[0m\u001b[0mj\u001b[0m\u001b[0;34m]\u001b[0m\u001b[0;34m)\u001b[0m\u001b[0;34m\u001b[0m\u001b[0;34m\u001b[0m\u001b[0m\n\u001b[0m",
      "\u001b[0;31mNameError\u001b[0m: name 'shape' is not defined"
     ]
    }
   ],
   "source": [
    "int(traces[shape,1,j])"
   ]
  },
  {
   "cell_type": "code",
   "execution_count": 25,
   "id": "56688c67",
   "metadata": {},
   "outputs": [
    {
     "data": {
      "text/plain": [
       "5"
      ]
     },
     "execution_count": 25,
     "metadata": {},
     "output_type": "execute_result"
    }
   ],
   "source": [
    "y_train[0]"
   ]
  },
  {
   "cell_type": "code",
   "execution_count": 37,
   "id": "86a082c6",
   "metadata": {},
   "outputs": [
    {
     "data": {
      "text/plain": [
       "(150, 224, 224)"
      ]
     },
     "execution_count": 37,
     "metadata": {},
     "output_type": "execute_result"
    }
   ],
   "source": [
    "sample.shape"
   ]
  },
  {
   "cell_type": "code",
   "execution_count": 38,
   "id": "92f6c2f9",
   "metadata": {},
   "outputs": [],
   "source": [
    "import matplotlib.pyplot as plt"
   ]
  },
  {
   "cell_type": "code",
   "execution_count": 45,
   "id": "deec2d3b",
   "metadata": {},
   "outputs": [
    {
     "data": {
      "text/plain": [
       "<matplotlib.image.AxesImage at 0x7ff9d9ca0b80>"
      ]
     },
     "execution_count": 45,
     "metadata": {},
     "output_type": "execute_result"
    },
    {
     "data": {
      "image/png": "[encoded data removed]",
      "text/plain": [
       "<Figure size 432x288 with 1 Axes>"
      ]
     },
     "metadata": {
      "needs_background": "light"
     },
     "output_type": "display_data"
    }
   ],
   "source": [
    "plt.imshow(sample[125])"
   ]
  },
  {
   "cell_type": "code",
   "execution_count": 41,
   "id": "ea138ee6",
   "metadata": {},
   "outputs": [
    {
     "data": {
      "text/plain": [
       "0"
      ]
     },
     "execution_count": 41,
     "metadata": {},
     "output_type": "execute_result"
    }
   ],
   "source": [
    "y_train[1]"
   ]
  },
  {
   "cell_type": "code",
   "execution_count": null,
   "id": "068de68f",
   "metadata": {},
   "outputs": [],
   "source": []
  }
 ],
 "metadata": {
  "kernelspec": {
   "display_name": "Python 3",
   "language": "python",
   "name": "python3"
  },
  "language_info": {
   "codemirror_mode": {
    "name": "ipython",
    "version": 3
   },
   "file_extension": ".py",
   "mimetype": "text/x-python",
   "name": "python",
   "nbconvert_exporter": "python",
   "pygments_lexer": "ipython3",
   "version": "3.9.4"
  }
 },
 "nbformat": 4,
 "nbformat_minor": 5
}
