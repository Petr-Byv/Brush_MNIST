{
 "cells": [
  {
   "cell_type": "code",
   "execution_count": 1,
   "id": "b5ef5838",
   "metadata": {},
   "outputs": [],
   "source": [
    "import keras\n",
    "import cv2"
   ]
  },
  {
   "cell_type": "code",
   "execution_count": 2,
   "id": "cd176bfd",
   "metadata": {},
   "outputs": [],
   "source": [
    "import tensorflow as tf\n",
    "import numpy as np"
   ]
  },
  {
   "cell_type": "code",
   "execution_count": 3,
   "id": "b2f9de51",
   "metadata": {},
   "outputs": [],
   "source": [
    "from keras.datasets import mnist\n",
    "(x_train, y_train), (x_test, y_test) = mnist.load_data()"
   ]
  },
  {
   "cell_type": "code",
   "execution_count": 4,
   "id": "990798af",
   "metadata": {},
   "outputs": [],
   "source": [
    "from utils.random_sampler import sample_random_number_mnist, find_nearest_white,generate_from_mnist_images"
   ]
  },
  {
   "cell_type": "code",
   "execution_count": 5,
   "id": "fa7387f8",
   "metadata": {},
   "outputs": [],
   "source": [
    "traces=np.load('utils/traces.npy')"
   ]
  },
  {
   "cell_type": "code",
   "execution_count": 6,
   "id": "29886da7",
   "metadata": {},
   "outputs": [],
   "source": [
    "from skimage.morphology import skeletonize, thin"
   ]
  },
  {
   "cell_type": "code",
   "execution_count": 44,
   "id": "9783b3ef",
   "metadata": {},
   "outputs": [
    {
     "name": "stdout",
     "output_type": "stream",
     "text": [
      "6\n"
     ]
    }
   ],
   "source": [
    "i=3443\n",
    "j=2372\n",
    "[i1,i2,i3,i4]=[x_train[i],y_train[i],x_train[j],y_train[j]]\n",
    "lab=y_train[i]*10+y_train[j]\n",
    "print(str(lab))\n",
    "sample=generate_from_mnist_images(i1,i2,i3,i4,traces)\n",
    "footprint=np.sum(sample,axis=0)"
   ]
  },
  {
   "cell_type": "code",
   "execution_count": 46,
   "id": "56688c67",
   "metadata": {},
   "outputs": [],
   "source": [
    "import imageio\n",
    "images = []\n",
    "for i in range(150):\n",
    "    im=np.concatenate(((footprint/10).astype('uint8'),sample[i].astype('uint8')),axis=1)\n",
    "    images.append(im)\n",
    "exportname='src/gifs/movie'+str(lab)+'.gif'\n",
    "imageio.mimsave(exportname, images, fps = 200)\n",
    "\n",
    "#imageio.mimsave('', images)"
   ]
  },
  {
   "cell_type": "code",
   "execution_count": 31,
   "id": "5dcef084",
   "metadata": {},
   "outputs": [
    {
     "data": {
      "text/plain": [
       "0.0"
      ]
     },
     "execution_count": 31,
     "metadata": {},
     "output_type": "execute_result"
    }
   ],
   "source": [
    "sample[50,50,50]"
   ]
  },
  {
   "cell_type": "code",
   "execution_count": 13,
   "id": "86a082c6",
   "metadata": {},
   "outputs": [
    {
     "data": {
      "text/plain": [
       "(150, 224, 224)"
      ]
     },
     "execution_count": 13,
     "metadata": {},
     "output_type": "execute_result"
    }
   ],
   "source": [
    "sample.shape"
   ]
  },
  {
   "cell_type": "code",
   "execution_count": 14,
   "id": "92f6c2f9",
   "metadata": {},
   "outputs": [],
   "source": [
    "import matplotlib.pyplot as plt"
   ]
  },
  {
   "cell_type": "code",
   "execution_count": 23,
   "id": "deec2d3b",
   "metadata": {},
   "outputs": [
    {
     "data": {
      "text/plain": [
       "<matplotlib.image.AxesImage at 0x7fed197ee3a0>"
      ]
     },
     "execution_count": 23,
     "metadata": {},
     "output_type": "execute_result"
    },
    {
     "data": {
      "image/png": "[encoded data removed]",
      "text/plain": [
       "<Figure size 432x288 with 1 Axes>"
      ]
     },
     "metadata": {
      "needs_background": "light"
     },
     "output_type": "display_data"
    }
   ],
   "source": [
    "plt.imshow(footprint)"
   ]
  },
  {
   "cell_type": "code",
   "execution_count": 21,
   "id": "ea138ee6",
   "metadata": {},
   "outputs": [
    {
     "data": {
      "text/plain": [
       "5"
      ]
     },
     "execution_count": 21,
     "metadata": {},
     "output_type": "execute_result"
    }
   ],
   "source": [
    "y_train[0]"
   ]
  },
  {
   "cell_type": "code",
   "execution_count": null,
   "id": "068de68f",
   "metadata": {},
   "outputs": [],
   "source": []
  }
 ],
 "metadata": {
  "kernelspec": {
   "display_name": "Python 3",
   "language": "python",
   "name": "python3"
  },
  "language_info": {
   "codemirror_mode": {
    "name": "ipython",
    "version": 3
   },
   "file_extension": ".py",
   "mimetype": "text/x-python",
   "name": "python",
   "nbconvert_exporter": "python",
   "pygments_lexer": "ipython3",
   "version": "3.9.4"
  }
 },
 "nbformat": 4,
 "nbformat_minor": 5
}
